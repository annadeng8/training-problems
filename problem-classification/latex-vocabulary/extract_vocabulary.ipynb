{
 "cells": [
  {
   "cell_type": "code",
   "execution_count": 1,
   "metadata": {},
   "outputs": [
    {
     "data": {
      "text/plain": [
       "203"
      ]
     },
     "execution_count": 1,
     "metadata": {},
     "output_type": "execute_result"
    }
   ],
   "source": [
    "glossary_items = open('amsmath_glossary.txt','r').readlines()\n",
    "\n",
    "amsmath_vocabulary = [\n",
    "    item.split(',')[0] for item in glossary_items if item[0] == '\\\\'\n",
    "]\n",
    "\n",
    "len(amsmath_vocabulary)"
   ]
  },
  {
   "cell_type": "code",
   "execution_count": 10,
   "metadata": {},
   "outputs": [],
   "source": [
    "latex_vocabulary = open('latex_symbols.txt','a')\n",
    "for feature in amsmath_vocabulary:\n",
    "    latex_vocabulary.write('\\n' + feature)"
   ]
  }
 ],
 "metadata": {
  "kernelspec": {
   "display_name": "flask-env",
   "language": "python",
   "name": "python3"
  },
  "language_info": {
   "codemirror_mode": {
    "name": "ipython",
    "version": 3
   },
   "file_extension": ".py",
   "mimetype": "text/x-python",
   "name": "python",
   "nbconvert_exporter": "python",
   "pygments_lexer": "ipython3",
   "version": "3.11.1"
  },
  "orig_nbformat": 4
 },
 "nbformat": 4,
 "nbformat_minor": 2
}
